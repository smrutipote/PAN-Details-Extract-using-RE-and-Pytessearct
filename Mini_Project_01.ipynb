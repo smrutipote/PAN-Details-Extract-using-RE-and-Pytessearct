{
 "cells": [
  {
   "cell_type": "code",
   "execution_count": 1,
   "id": "e7b94d7a",
   "metadata": {},
   "outputs": [],
   "source": [
    "import re\n",
    "import pandas as pd\n",
    "import pytesseract \n",
    "import os"
   ]
  },
  {
   "cell_type": "code",
   "execution_count": 2,
   "id": "4c2e1ad7",
   "metadata": {},
   "outputs": [],
   "source": [
    "folder_path='google pan'\n",
    "\n",
    "pytesseract.pytesseract.tesseract_cmd = r\"C:\\Program Files\\Tesseract-OCR\\tesseract.exe\"\n",
    "\n",
    "image_list=os.listdir(folder_path)\n",
    "#print(image_list)\n",
    "\n",
    "\n",
    "\n",
    "# df=pd.DataFrame(data)\n",
    "# print(df)"
   ]
  },
  {
   "cell_type": "code",
   "execution_count": 3,
   "id": "62ce548c",
   "metadata": {},
   "outputs": [
    {
     "name": "stdout",
     "output_type": "stream",
     "text": [
      "{'Person Name': ['__NAGARAJAN T a', 'VIVEK KUMAR 7 .', 'PRAMOD KUMAR MAHTO,', 'RAHUL GUPTA'], 'Date of Birth': ['16/01/1987', '17/09/1996', '03/04/1982', '23/11/1974'], 'PAN': ['ANTPN4346A', 'EAKPK1204G', 'ANRPM2537J', 'ABCDE1234F']}\n"
     ]
    }
   ],
   "source": [
    "person_list=[]\n",
    "DOB_list=[]\n",
    "pan_list=[]\n",
    "\n",
    "def pans(image_list):\n",
    "    for image in image_list:\n",
    "        image=os.path.join(folder_path,image)\n",
    "        #print(image)\n",
    "        text=pytesseract.image_to_string(image)\n",
    "        #print(text)\n",
    "        text=re.sub('\\n+','\\n',text)\n",
    "        #print(text)\n",
    "        #print('*'*20)\n",
    "\n",
    "        pan=re.search(r'\\b[A-Z]{5}[0-9]{4}[A-Z]\\b',text)\n",
    "    #     print(pan.group())\n",
    "\n",
    "\n",
    "        DOB=re.search(r'\\b[0-9]{2}[/][0-9]{2}[/][0-9]{4}\\b',text)\n",
    "    #     print(DOB.group())\n",
    "\n",
    "\n",
    "        text_list=text.split('\\n')\n",
    "        #print(text_list)\n",
    "\n",
    "        for i,data in enumerate(text_list):\n",
    "            if re.search('DEPARTMENT',data):\n",
    "                person=text_list[i+1]\n",
    "        #print(person)\n",
    "        if person:\n",
    "            person_list.append(person)\n",
    "        else:\n",
    "            person_list.append(' ')\n",
    "\n",
    "\n",
    "        if DOB:\n",
    "            DOB_list.append(DOB.group())\n",
    "        else:\n",
    "            DOB_list.append(' ')\n",
    "\n",
    "        if pan:\n",
    "            pan_list.append(pan.group())\n",
    "        else:\n",
    "            pan_list.append(' ')\n",
    "\n",
    "\n",
    "    data={'Person Name':person_list,\n",
    "         'Date of Birth':DOB_list,\n",
    "         'PAN':pan_list}\n",
    "    \n",
    "    return data\n",
    "\n",
    "pan_details=pans(image_list)\n",
    "print(pan_details)"
   ]
  },
  {
   "cell_type": "code",
   "execution_count": 4,
   "id": "3593c815",
   "metadata": {},
   "outputs": [
    {
     "name": "stdout",
     "output_type": "stream",
     "text": [
      "           Person Name Date of Birth         PAN\n",
      "0      __NAGARAJAN T a    16/01/1987  ANTPN4346A\n",
      "1      VIVEK KUMAR 7 .    17/09/1996  EAKPK1204G\n",
      "2  PRAMOD KUMAR MAHTO,    03/04/1982  ANRPM2537J\n",
      "3          RAHUL GUPTA    23/11/1974  ABCDE1234F\n"
     ]
    }
   ],
   "source": [
    "df=pd.DataFrame(pan_details)\n",
    "print(df)"
   ]
  },
  {
   "cell_type": "code",
   "execution_count": null,
   "id": "159cf8b7",
   "metadata": {},
   "outputs": [],
   "source": []
  }
 ],
 "metadata": {
  "kernelspec": {
   "display_name": "Python 3 (ipykernel)",
   "language": "python",
   "name": "python3"
  },
  "language_info": {
   "codemirror_mode": {
    "name": "ipython",
    "version": 3
   },
   "file_extension": ".py",
   "mimetype": "text/x-python",
   "name": "python",
   "nbconvert_exporter": "python",
   "pygments_lexer": "ipython3",
   "version": "3.11.5"
  }
 },
 "nbformat": 4,
 "nbformat_minor": 5
}
